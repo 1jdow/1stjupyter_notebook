{
 "cells": [
  {
   "cell_type": "markdown",
   "id": "e9047474-32b9-459f-a611-ab01dbb93fd5",
   "metadata": {},
   "source": [
    "# Data Science Tools and Ecosystem"
   ]
  },
  {
   "cell_type": "markdown",
   "id": "95a61dcd-cbd5-40c1-920b-caf9ee8ab20a",
   "metadata": {},
   "source": [
    "## In this notebook, Data Science Tools and Ecosystem are summarized"
   ]
  },
  {
   "cell_type": "markdown",
   "id": "d2bfc13a-8ad4-498d-b446-b742e820df0e",
   "metadata": {},
   "source": [
    "## Objectives:\n",
    "- List popular languages for Data Science\n",
    "- Create a code cell to convert minutes to hours\n",
    "- Create a markdown cell with a table of Data Science tools"
   ]
  },
  {
   "cell_type": "markdown",
   "id": "f8ef2a09-ca10-4f32-b1f0-808c3ed7a409",
   "metadata": {},
   "source": [
    "### Some of the popular languages that Data Scientists use are:\n",
    "1. Python\n",
    "2. R\n",
    "3. Java"
   ]
  },
  {
   "cell_type": "markdown",
   "id": "c54e9807-c520-4853-9240-8127adc55bba",
   "metadata": {},
   "source": [
    "### Some of the commonly used libraries used by data scientists include:\n",
    "1. Pandas\n",
    "2. NumPy\n",
    "3. Matplotlib"
   ]
  },
  {
   "cell_type": "markdown",
   "id": "49838179-abad-4576-8a75-6ce735a44de5",
   "metadata": {},
   "source": [
    "|Data Science tools|\n",
    "------------------\n",
    "|Jupyter Notebooks|\n",
    "|R Studio|\n",
    "|VScode|"
   ]
  },
  {
   "cell_type": "markdown",
   "id": "6b45baba-b1f8-4cec-b193-fe48294cfdd7",
   "metadata": {},
   "source": [
    "### Below are a few examples of evaluating arithmetic expressions in Python:\n",
    "(3*4)+5"
   ]
  },
  {
   "cell_type": "code",
   "execution_count": 7,
   "id": "868d94fe-2dde-412f-9e51-b1408f64c8cc",
   "metadata": {},
   "outputs": [
    {
     "data": {
      "text/plain": [
       "17"
      ]
     },
     "execution_count": 7,
     "metadata": {},
     "output_type": "execute_result"
    }
   ],
   "source": [
    "# This a simple arithmetic expression to mutiply then add integers\n",
    "(3*4)+5"
   ]
  },
  {
   "cell_type": "code",
   "execution_count": 9,
   "id": "ec37f4bf-d1c0-499f-abc7-99423dd2a2d7",
   "metadata": {},
   "outputs": [
    {
     "data": {
      "text/plain": [
       "3.3333333333333335"
      ]
     },
     "execution_count": 9,
     "metadata": {},
     "output_type": "execute_result"
    }
   ],
   "source": [
    "# This will convert 200 minutes to hours by dividing by 60\n",
    "200/60"
   ]
  },
  {
   "cell_type": "markdown",
   "id": "a3d7ce2d-78bd-4d05-8081-280a8a4ea7ff",
   "metadata": {},
   "source": [
    "## Author Jonny Dow"
   ]
  },
  {
   "cell_type": "code",
   "execution_count": null,
   "id": "67945f66-4d81-4509-9bae-8976c54d2b05",
   "metadata": {},
   "outputs": [],
   "source": []
  }
 ],
 "metadata": {
  "kernelspec": {
   "display_name": "Python 3 (ipykernel)",
   "language": "python",
   "name": "python3"
  },
  "language_info": {
   "codemirror_mode": {
    "name": "ipython",
    "version": 3
   },
   "file_extension": ".py",
   "mimetype": "text/x-python",
   "name": "python",
   "nbconvert_exporter": "python",
   "pygments_lexer": "ipython3",
   "version": "3.11.7"
  }
 },
 "nbformat": 4,
 "nbformat_minor": 5
}
